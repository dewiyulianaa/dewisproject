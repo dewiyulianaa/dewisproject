{
 "cells": [
  {
   "cell_type": "markdown",
   "metadata": {},
   "source": [
    "determinan matrix \n",
    "1. Tentukan determinan matriks berikut:\n",
    "\n",
    "$$\\displaystyle A = \\left( \\begin{array}{cc}\n",
    "1 & 2 \\\\\n",
    "3 & 4\n",
    "\\end{array} \n",
    "\\right)\n",
    "$$"
   ]
  },
  {
   "cell_type": "code",
   "execution_count": 3,
   "metadata": {},
   "outputs": [
    {
     "name": "stdout",
     "output_type": "stream",
     "text": [
      "-2.0000000000000004\n"
     ]
    }
   ],
   "source": [
    "import numpy as np\n",
    "\n",
    "# Membuat matriks 2x2\n",
    "M = np.array([[1, 2], [3, 4]])\n",
    "\n",
    "# Menghitung determinan matriks\n",
    "determinant = np.linalg.det(M)\n",
    "\n",
    "print(determinant)"
   ]
  },
  {
   "cell_type": "markdown",
   "metadata": {},
   "source": [
    "2. Tentukan invers Matriks Berikut:\n",
    "\n",
    "$$\\displaystyle B = \\left( \\begin{array}{cc}\n",
    "10 & -22 \\\\\n",
    "3 & 45\n",
    "\\end{array} \n",
    "\\right)\n",
    "$$"
   ]
  },
  {
   "cell_type": "code",
   "execution_count": 4,
   "metadata": {},
   "outputs": [
    {
     "name": "stdout",
     "output_type": "stream",
     "text": [
      "[[ 0.0872093   0.04263566]\n",
      " [-0.00581395  0.01937984]]\n"
     ]
    }
   ],
   "source": [
    "import numpy as np\n",
    "\n",
    "# Membuat matriks 2x2\n",
    "M = np.array([[10, -22], [3, 45]])\n",
    "\n",
    "# Menghitung invers matriks\n",
    "inverse_of_M = np.linalg.inv(M)\n",
    "\n",
    "print(inverse_of_M)"
   ]
  },
  {
   "cell_type": "markdown",
   "metadata": {},
   "source": [
    "3. Tentukan apakah matriks berikut berkondisi buruk:\n",
    "$$\\displaystyle C = \\left( \\begin{array}{cc}\n",
    "1 & 10^{-10} \\\\\n",
    "10^{-10} & 1\n",
    "\\end{array} \n",
    "\\right)\n",
    "$$"
   ]
  },
  {
   "cell_type": "code",
   "execution_count": 1,
   "metadata": {},
   "outputs": [
    {
     "name": "stdout",
     "output_type": "stream",
     "text": [
      "Matriks C:\n",
      "[[1.e+00 1.e-10]\n",
      " [1.e-10 1.e+00]]\n",
      "Kondisi matriks cond(C): 2.0000000000000004\n"
     ]
    }
   ],
   "source": [
    "import numpy as np\n",
    "\n",
    "C = np.array([[1, 1e-10], [1e-10, 1]])\n",
    "C_inv = np.linalg.inv(C)\n",
    "\n",
    "norm_C = np.linalg.norm(C, ord='fro')\n",
    "norm_C_inv = np.linalg.norm(C_inv, ord='fro')\n",
    "\n",
    "cond_C = norm_C * norm_C_inv\n",
    "\n",
    "print(\"Matriks C:\")\n",
    "print(C)\n",
    "print(\"Kondisi matriks cond(C):\", cond_C)"
   ]
  },
  {
   "cell_type": "markdown",
   "metadata": {},
   "source": [
    "4. Tentukan apakah sistem persamaan linier berikut memiliki solusi. Jika ada, bagaimana solusinya?\n",
    "\n",
    "$$\\displaystyle A = \\left( \\begin{array}{cc}\n",
    "1 & 2 \\\\\n",
    "3 & 4\n",
    "\\end{array} \n",
    "\\right) $$\n",
    "\n",
    "\n",
    "$$\\displaystyle\n",
    "b =  \\left( \\begin{array}{cc}\n",
    "5 & 6 \n",
    "\\end{array} \n",
    "\\right) \\\\\n",
    "$$"
   ]
  },
  {
   "cell_type": "code",
   "execution_count": 2,
   "metadata": {},
   "outputs": [
    {
     "name": "stdout",
     "output_type": "stream",
     "text": [
      "Matriks Invers A:\n",
      "[[-2.   1. ]\n",
      " [ 1.5 -0.5]]\n",
      "\n",
      "Solusi:\n",
      "[-4.   4.5]\n"
     ]
    }
   ],
   "source": [
    "import numpy as np\n",
    "\n",
    "# Matriks koefisien\n",
    "A = np.array([[1, 2], [3, 4]])\n",
    "\n",
    "# Matriks kolom\n",
    "b = np.array([5, 6])\n",
    "\n",
    "# Mencari invers matriks A\n",
    "A_inv = np.linalg.inv(A)\n",
    "\n",
    "# Mencari solusi\n",
    "x = np.dot(A_inv, b)\n",
    "\n",
    "print(\"Matriks Invers A:\")\n",
    "print(A_inv)\n",
    "print(\"\\nSolusi:\")\n",
    "print(x)\n"
   ]
  },
  {
   "cell_type": "markdown",
   "metadata": {},
   "source": [
    "5. Tentukan dimensi ruang nol matriks berikut:\n",
    "\n",
    "\n",
    "$$\\displaystyle\n",
    "C =\n",
    "\\left(\n",
    "\\begin{array}{ccc}\n",
    "1 & 2 & 3 \\\\\n",
    "4 & 5 & 6 \\\\\n",
    "7 & 8 & 9\n",
    "\\end{array}\n",
    "\\right)\n",
    "$$"
   ]
  },
  {
   "cell_type": "markdown",
   "metadata": {},
   "source": [
    "Dimensi ruang nol (null space) dari sebuah matriks dapat ditentukan dengan mencari solusi homogen dari sistem persamaan linear yang dinyatakan oleh matriks tersebut. Dalam hal ini, kita memiliki matriks:\n",
    "\n",
    "$$\n",
    "C =\n",
    "\\left(\n",
    "\\begin{array}{ccc}\n",
    "1 & 2 & 3 \\\\\n",
    "4 & 5 & 6 \\\\\n",
    "7 & 8 & 9\n",
    "\\end{array}\n",
    "\\right)\n",
    "$$\n",
    "\n",
    "Untuk mencari dimensi ruang nol, kita perlu mencari solusi homogen dari persamaan \\(C\\mathbf{x} = \\mathbf{0}\\), di mana \\(\\mathbf{x}\\) adalah vektor kolom yang mencakup variabel-variabel yang kita cari. Dengan mengubah matriks augmentasi [C | 0] ke bentuk tereduksi baris, kita dapat mendapatkan bentuk echelon baris atau bentuk tereduksi baris yang menggambarkan sistem persamaan linear yang setara.\n",
    "\n",
    "Mari kita tentukan:\n",
    "\n",
    "$$\n",
    "[C | 0] = \\left(\n",
    "\\begin{array}{ccc|c}\n",
    "1 & 2 & 3 & 0 \\\\\n",
    "4 & 5 & 6 & 0 \\\\\n",
    "7 & 8 & 9 & 0\n",
    "\\end{array}\n",
    "\\right)\n",
    "$$\n"
   ]
  }
 ],
 "metadata": {
  "kernelspec": {
   "display_name": "Python 3",
   "language": "python",
   "name": "python3"
  },
  "language_info": {
   "codemirror_mode": {
    "name": "ipython",
    "version": 3
   },
   "file_extension": ".py",
   "mimetype": "text/x-python",
   "name": "python",
   "nbconvert_exporter": "python",
   "pygments_lexer": "ipython3",
   "version": "3.11.5"
  }
 },
 "nbformat": 4,
 "nbformat_minor": 2
}
